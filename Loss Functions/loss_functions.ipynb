{
 "cells": [
  {
   "cell_type": "markdown",
   "id": "21f07e14",
   "metadata": {},
   "source": [
    "## Loss functions\n"
   ]
  },
  {
   "cell_type": "markdown",
   "id": "52e531c7",
   "metadata": {},
   "source": [
    "### Mean Squared error(MSE):\n",
    "MSE is the most commonly used loss functions in regression task and in algorithms like linear regression, Mathematically defined as :\n",
    "<br>\n",
    "$$\n",
    "MSE = \\frac{1}{n} \\sum_{i=1}^{n}(y_{i} - \\hat{y})^2\n",
    "$$"
   ]
  },
  {
   "cell_type": "code",
   "execution_count": 1,
   "id": "9691329e",
   "metadata": {},
   "outputs": [],
   "source": [
    "import numpy as np"
   ]
  },
  {
   "cell_type": "code",
   "execution_count": 2,
   "id": "1dc564e5",
   "metadata": {},
   "outputs": [],
   "source": [
    "def MeanSquaredError(y_true,y_pred):\n",
    "    y_true = np.array(y_true)\n",
    "    y_pred = np.array(y_pred)\n",
    "\n",
    "    error = np.square(y_true - y_pred)\n",
    "    return np.mean(error)"
   ]
  },
  {
   "cell_type": "code",
   "execution_count": 3,
   "id": "e48aead5",
   "metadata": {},
   "outputs": [
    {
     "data": {
      "text/plain": [
       "5.240000000000001"
      ]
     },
     "execution_count": 3,
     "metadata": {},
     "output_type": "execute_result"
    }
   ],
   "source": [
    "y_trues = [20,34,22,23.4,12,33]\n",
    "y_preds = [18,35,20,27.2,10,31]\n",
    "\n",
    "mse = MeanSquaredError(y_trues,y_preds)\n",
    "mse"
   ]
  },
  {
   "cell_type": "markdown",
   "id": "a1fc1925",
   "metadata": {},
   "source": [
    "### Binary cross entropy(BCE)\n",
    "Binary cross entropy is the most popular loss function for binary classification task.Mathematically it can defined as:\n",
    "<br>\n",
    "$$\n",
    "BCE = -\\frac{1}{n}\\sum_{i=1}^{n} [y_{i} log(\\hat{y}) + (1-y_{i})log(1-\\hat{y})]\n",
    "$$"
   ]
  },
  {
   "cell_type": "code",
   "execution_count": 4,
   "id": "0eceaf0c",
   "metadata": {},
   "outputs": [],
   "source": [
    "def BinaryCrossEntropy(y_pred,y_true,epsilon = 1e-15):\n",
    "    y_true = np.array(y_true)\n",
    "    y_pred = np.array(y_pred)\n",
    "    y_pred = np.clip(y_pred, epsilon, 1 - epsilon) ## Clipping to avoid log(0)\n",
    "\n",
    "    bce = -(y_true*np.log(y_pred) + (1-y_true)*np.log(1-y_pred))\n",
    "\n",
    "    return np.mean(bce)\n"
   ]
  },
  {
   "cell_type": "code",
   "execution_count": 5,
   "id": "cc1d198a",
   "metadata": {},
   "outputs": [
    {
     "data": {
      "text/plain": [
       "0.14042448853493678"
      ]
     },
     "execution_count": 5,
     "metadata": {},
     "output_type": "execute_result"
    }
   ],
   "source": [
    "y_pred_prob = [0.9,0.2,0.1,0.88]\n",
    "y_true_prob = [1,0,0,1]\n",
    "\n",
    "bce = BinaryCrossEntropy(y_pred_prob,y_true_prob)\n",
    "bce"
   ]
  },
  {
   "cell_type": "markdown",
   "id": "e8b97d7f",
   "metadata": {},
   "source": [
    "### Categorial Cross Entropy\n",
    "Categorical Cross Entropy is quite similar to Binary cross entropy and is used for multi-class classification problems,Mathematically: \n",
    "$$\n",
    "CCE = - \\frac{1}{n} \\sum_{i=1}^{n}\\sum_{i=1}^{C} y_{i}log(\\hat{y_{i}})\n",
    "$$\n",
    "\n",
    "\n",
    "where,\n",
    "$$ y_{i} = Trueprobabilities(one hot) $$\n",
    "\n",
    "$$\\hat{y_{i}} = Predictedprobabilties$$\n",
    "$$ C = numberofclasses\n",
    "$$"
   ]
  },
  {
   "cell_type": "code",
   "execution_count": 8,
   "id": "c3818694",
   "metadata": {},
   "outputs": [],
   "source": [
    "def CategoricalCrossEntropy(y_true,y_pred,epsilon = 1e-15):\n",
    "    y_pred = np.array(y_pred)\n",
    "    y_true = np.array(y_true)\n",
    "\n",
    "    y_pred = np.clip(y_pred, epsilon, 1 - epsilon)# clipping for numerical stability and log(0)\n",
    "\n",
    "    cce = -np.sum(y_true*np.log(y_pred),axis = 1)\n",
    "    return np.mean(cce)\n",
    "\n"
   ]
  },
  {
   "cell_type": "code",
   "execution_count": 11,
   "id": "a5d0fd94",
   "metadata": {},
   "outputs": [],
   "source": [
    "y_pred_multi = [[0.6,0.1,0.3],\n",
    "                [0.2,0.7,0.1],\n",
    "                [0.2,0.1,0.7]] # for 3 classes\n",
    "y_true_multi = [[1,0,0],\n",
    "                [0,1,0],\n",
    "                [0,0,1]]# one hot encoded"
   ]
  },
  {
   "cell_type": "code",
   "execution_count": 10,
   "id": "80f3ffe2",
   "metadata": {},
   "outputs": [
    {
     "data": {
      "text/plain": [
       "0.4080585038811519"
      ]
     },
     "execution_count": 10,
     "metadata": {},
     "output_type": "execute_result"
    }
   ],
   "source": [
    "loss = CategoricalCrossEntropy(y_true_multi,y_pred_multi)\n",
    "loss"
   ]
  }
 ],
 "metadata": {
  "kernelspec": {
   "display_name": "Python 3",
   "language": "python",
   "name": "python3"
  },
  "language_info": {
   "codemirror_mode": {
    "name": "ipython",
    "version": 3
   },
   "file_extension": ".py",
   "mimetype": "text/x-python",
   "name": "python",
   "nbconvert_exporter": "python",
   "pygments_lexer": "ipython3",
   "version": "3.12.3"
  }
 },
 "nbformat": 4,
 "nbformat_minor": 5
}
